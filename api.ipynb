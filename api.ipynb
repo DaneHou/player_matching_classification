{
 "cells": [
  {
   "cell_type": "code",
   "execution_count": 1,
   "id": "4766938f-eb05-47fa-9c77-c8101d2852b0",
   "metadata": {},
   "outputs": [
    {
     "name": "stdout",
     "output_type": "stream",
     "text": [
      "The probability that Arpad will beat Mark is: 0.426\n"
     ]
    }
   ],
   "source": [
    "import takehome_test as tht"
   ]
  },
  {
   "cell_type": "code",
   "execution_count": 10,
   "id": "0fa388d5-294f-4ec8-ad75-fae2ee91ad90",
   "metadata": {},
   "outputs": [
    {
     "name": "stdout",
     "output_type": "stream",
     "text": [
      "The probability that Arpad will beat Mark is: 0.787\n"
     ]
    }
   ],
   "source": [
    "arpad = tht.Player('Arpad', 450)\n",
    "mark = tht.Player('Mark', 341)\n",
    "result = tht.predict_outcome(arpad, mark)\n",
    "print('The probability that Arpad will beat Mark is:', result)"
   ]
  },
  {
   "cell_type": "code",
   "execution_count": null,
   "id": "59b48707-3e71-4973-90df-72b6557d0f11",
   "metadata": {},
   "outputs": [],
   "source": []
  }
 ],
 "metadata": {
  "kernelspec": {
   "display_name": "Python 3",
   "language": "python",
   "name": "python3"
  },
  "language_info": {
   "codemirror_mode": {
    "name": "ipython",
    "version": 3
   },
   "file_extension": ".py",
   "mimetype": "text/x-python",
   "name": "python",
   "nbconvert_exporter": "python",
   "pygments_lexer": "ipython3",
   "version": "3.8.11"
  }
 },
 "nbformat": 4,
 "nbformat_minor": 5
}
